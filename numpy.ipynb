{
 "cells": [
  {
   "cell_type": "code",
   "execution_count": 1,
   "id": "1362c7a2-1a04-4b86-86b6-d8df2d3fcd90",
   "metadata": {},
   "outputs": [
    {
     "name": "stdout",
     "output_type": "stream",
     "text": [
      "1.26.4\n"
     ]
    }
   ],
   "source": [
    "#import numpy as np\n",
    "#print(np.__version__)"
   ]
  },
  {
   "cell_type": "code",
   "execution_count": 9,
   "id": "1ef4686a-11c5-49b7-b1ec-f1ca349c44bc",
   "metadata": {},
   "outputs": [],
   "source": [
    "#3D\n",
    "#arr=np.array([[[1,2,3],[4,5,6]],[[1,2,3],[4,5,6]]])\n",
    "#print(arr)\n"
   ]
  },
  {
   "cell_type": "code",
   "execution_count": 14,
   "id": "7645ae1d-a184-48d6-ad43-d76993670966",
   "metadata": {},
   "outputs": [],
   "source": [
    "#0D\n",
    "# import numpy as np\n",
    "# arr=np.array(42)\n",
    "# print(arr)"
   ]
  },
  {
   "cell_type": "code",
   "execution_count": 16,
   "id": "b8957c32-995f-4418-bd8c-2b930f48e6fa",
   "metadata": {},
   "outputs": [
    {
     "name": "stdout",
     "output_type": "stream",
     "text": [
      "[1 2 3]\n"
     ]
    }
   ],
   "source": [
    "#1D\n",
    "# import numpy as np\n",
    "# arr=np.array([1,2,3])\n",
    "# print(arr)"
   ]
  },
  {
   "cell_type": "code",
   "execution_count": 18,
   "id": "1d15a0f3-e35c-466d-a271-7841b57e794c",
   "metadata": {},
   "outputs": [
    {
     "name": "stdout",
     "output_type": "stream",
     "text": [
      "[[1 2 3]\n",
      " [4 5 6]]\n"
     ]
    }
   ],
   "source": [
    "#2D\n",
    "# import numpy as np\n",
    "# arr=np.array([[1,2,3],[4,5,6]])\n",
    "# print(arr)"
   ]
  },
  {
   "cell_type": "code",
   "execution_count": 20,
   "id": "5408f441-1973-47bc-92c6-f50105ad0ce0",
   "metadata": {},
   "outputs": [
    {
     "name": "stdout",
     "output_type": "stream",
     "text": [
      "0\n",
      "1\n",
      "2\n",
      "3\n"
     ]
    }
   ],
   "source": [
    "# To check the diamention\n",
    "# import numpy as np\n",
    "# a=np.array(42)\n",
    "# b=np.array([1,2,3])\n",
    "# c=np.array([[1,2,3],[4,5,6]])\n",
    "# d=np.array([[[1,2,3],[4,5,6]],[[1,2,3],[4,5,6]]])\n",
    "\n",
    "# print(a.ndim)\n",
    "# print(b.ndim)\n",
    "# print(c.ndim)\n",
    "# print(d.ndim)"
   ]
  },
  {
   "cell_type": "code",
   "execution_count": null,
   "id": "032114bb-6e8e-4601-afac-b41fbf1223f3",
   "metadata": {},
   "outputs": [],
   "source": []
  }
 ],
 "metadata": {
  "kernelspec": {
   "display_name": "Python 3 (ipykernel)",
   "language": "python",
   "name": "python3"
  },
  "language_info": {
   "codemirror_mode": {
    "name": "ipython",
    "version": 3
   },
   "file_extension": ".py",
   "mimetype": "text/x-python",
   "name": "python",
   "nbconvert_exporter": "python",
   "pygments_lexer": "ipython3",
   "version": "3.12.4"
  }
 },
 "nbformat": 4,
 "nbformat_minor": 5
}
