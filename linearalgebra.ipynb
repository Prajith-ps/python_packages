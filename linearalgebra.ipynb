{
 "cells": [
  {
   "cell_type": "code",
   "execution_count": 3,
   "id": "56e2e8ee-0ae2-46c3-93af-8ad0cc56a423",
   "metadata": {},
   "outputs": [
    {
     "name": "stdout",
     "output_type": "stream",
     "text": [
      "44\n"
     ]
    }
   ],
   "source": [
    "\n",
    "import numpy as np\n",
    "array1 =np.array([1,3,5])\n",
    "array2 =np.array([2,4,6])\n",
    "\n",
    "result = np.dot(array1,array2)\n",
    "print(result)"
   ]
  },
  {
   "cell_type": "code",
   "execution_count": 5,
   "id": "f4368fb0-d226-4861-bff1-d1008a277aab",
   "metadata": {},
   "outputs": [
    {
     "name": "stdout",
     "output_type": "stream",
     "text": [
      "[[14 30]\n",
      " [38 86]]\n"
     ]
    }
   ],
   "source": [
    "import numpy as np\n",
    "array1 =np.array([[1,3],\n",
    "                  [5,7]])\n",
    "array2 =np.array([[2,4],\n",
    "                  [6,8]])\n",
    "result=np.inner(array1,array2)\n",
    "print (result)"
   ]
  },
  {
   "cell_type": "code",
   "execution_count": 7,
   "id": "175c1be7-a803-4b69-a4f3-fe03c8db7e5f",
   "metadata": {},
   "outputs": [
    {
     "name": "stdout",
     "output_type": "stream",
     "text": [
      "[[ 2  4  6]\n",
      " [ 6 12 18]\n",
      " [10 20 30]]\n"
     ]
    }
   ],
   "source": [
    "#outer()\n",
    "array1 =np.array([1,3,5])\n",
    "array2 =np.array([2,4,6]) \n",
    "result = np.outer(array1,array2)\n",
    "print(result)"
   ]
  },
  {
   "cell_type": "code",
   "execution_count": 9,
   "id": "75571741-e785-4ae5-88e4-e84cebd7b25a",
   "metadata": {},
   "outputs": [
    {
     "name": "stdout",
     "output_type": "stream",
     "text": [
      "-7.999999999999998\n"
     ]
    }
   ],
   "source": [
    "#det()\n",
    "array1 =np.array([[1,3],\n",
    "                  [5,7]])\n",
    "result= np.linalg.det(array1)\n",
    "print(result)"
   ]
  },
  {
   "cell_type": "code",
   "execution_count": 11,
   "id": "24dc44ca-314f-45b8-85bd-f73ca4a50edf",
   "metadata": {},
   "outputs": [
    {
     "name": "stdout",
     "output_type": "stream",
     "text": [
      "[-2.    2.25]\n"
     ]
    }
   ],
   "source": [
    "#solve()\n",
    "A=np.array([[2,4],\n",
    "            [6,8]])\n",
    "B=np.array([5,6])\n",
    "x=np.linalg.solve(A,B)\n",
    "print(x)"
   ]
  },
  {
   "cell_type": "code",
   "execution_count": 13,
   "id": "ac34050c-0473-4b71-8f52-b28e2b37784b",
   "metadata": {},
   "outputs": [
    {
     "name": "stdout",
     "output_type": "stream",
     "text": [
      "[[-1.    0.5 ]\n",
      " [ 0.75 -0.25]]\n"
     ]
    }
   ],
   "source": [
    "#inv function\n",
    "array1 =np.array([[2,4],\n",
    "                  [6,8]])\n",
    "result=np.linalg.inv(array1)\n",
    "print(result)"
   ]
  },
  {
   "cell_type": "code",
   "execution_count": 15,
   "id": "8f861baf-391f-4989-9883-4f9b11401acd",
   "metadata": {},
   "outputs": [
    {
     "name": "stdout",
     "output_type": "stream",
     "text": [
      "12\n"
     ]
    }
   ],
   "source": [
    "#trace() function\n",
    "import numpy as np\n",
    "array1 =np.array([[6,3,5],\n",
    "                   [9,2,1],\n",
    "                   [7,8,4]])\n",
    "result =np.trace(array1)\n",
    "print(result)"
   ]
  },
  {
   "cell_type": "code",
   "execution_count": 17,
   "id": "77984387-9cc8-4a61-9299-258082a79e40",
   "metadata": {},
   "outputs": [
    {
     "name": "stdout",
     "output_type": "stream",
     "text": [
      "  message: Optimization terminated successfully.\n",
      "  success: True\n",
      "   status: 0\n",
      "      fun: 1.75\n",
      "        x: [-5.000e-01]\n",
      "      nit: 2\n",
      "      jac: [ 0.000e+00]\n",
      " hess_inv: [[ 5.000e-01]]\n",
      "     nfev: 8\n",
      "     njev: 4\n"
     ]
    }
   ],
   "source": [
    "#Minima\n",
    "from scipy.optimize import minimize\n",
    "\n",
    "def eqn(x):\n",
    "    return x**2+x+2\n",
    "mymin = minimize(eqn,0,method='BFGS')\n",
    "print(mymin)"
   ]
  },
  {
   "cell_type": "code",
   "execution_count": null,
   "id": "1932b529-66f1-416e-91d7-44a16c6c4ee5",
   "metadata": {},
   "outputs": [],
   "source": []
  }
 ],
 "metadata": {
  "kernelspec": {
   "display_name": "Python 3 (ipykernel)",
   "language": "python",
   "name": "python3"
  },
  "language_info": {
   "codemirror_mode": {
    "name": "ipython",
    "version": 3
   },
   "file_extension": ".py",
   "mimetype": "text/x-python",
   "name": "python",
   "nbconvert_exporter": "python",
   "pygments_lexer": "ipython3",
   "version": "3.12.4"
  }
 },
 "nbformat": 4,
 "nbformat_minor": 5
}
