{
 "cells": [
  {
   "cell_type": "code",
   "execution_count": 11,
   "id": "e97b1b6f-ad17-46e3-98ad-5e82c23fecbc",
   "metadata": {},
   "outputs": [
    {
     "name": "stdout",
     "output_type": "stream",
     "text": [
      "   days   workouts  duration\n",
      "0  day1      chest  00:59:00\n",
      "1  day2       back  00:59:00\n",
      "2  day3        NaN  00:45:00\n",
      "3  day4  shoulders  00:59:00\n",
      "4  day5       legs  00:59:00\n",
      "5  day6     cardio  00:45:00\n"
     ]
    }
   ],
   "source": [
    "import pandas as pd\n",
    "import numpy as np\n",
    "# Corrected workout data\n",
    "workout = {\n",
    "    'days': {\n",
    "        '0': 'day1',\n",
    "        '1': 'day2',\n",
    "        '2': 'day3',\n",
    "        '3': 'day4',\n",
    "        '4': 'day5',\n",
    "        '5': 'day6'\n",
    "    },\n",
    "    'workouts': {\n",
    "        '0': 'chest',\n",
    "        '1': 'back',\n",
    "        '2': np.NaN,\n",
    "        '3': 'shoulders',\n",
    "        '4': 'legs',\n",
    "        '5': 'cardio'\n",
    "    },\n",
    "    'duration': {\n",
    "        '0': '00:59:00',\n",
    "        '1': '00:59:00',\n",
    "        '2': '00:45:00',\n",
    "        '3': '00:59:00',\n",
    "        '4': '00:59:00',\n",
    "        '5': '00:45:00'\n",
    "    }\n",
    "}\n",
    "\n",
    "# Create the DataFrame\n",
    "df = pd.DataFrame(workout)\n",
    "\n",
    "# Save to CSV\n",
    "df.to_csv('workout.csv', index=False)\n",
    "\n",
    "# Display the DataFrame\n",
    "print(df)"
   ]
  },
  {
   "cell_type": "code",
   "execution_count": null,
   "id": "d271e045-13f4-4750-a3bd-94087f143113",
   "metadata": {},
   "outputs": [],
   "source": []
  }
 ],
 "metadata": {
  "kernelspec": {
   "display_name": "Python 3 (ipykernel)",
   "language": "python",
   "name": "python3"
  },
  "language_info": {
   "codemirror_mode": {
    "name": "ipython",
    "version": 3
   },
   "file_extension": ".py",
   "mimetype": "text/x-python",
   "name": "python",
   "nbconvert_exporter": "python",
   "pygments_lexer": "ipython3",
   "version": "3.12.4"
  }
 },
 "nbformat": 4,
 "nbformat_minor": 5
}
