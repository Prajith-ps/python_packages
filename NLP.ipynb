{
 "cells": [
  {
   "cell_type": "code",
   "execution_count": 1,
   "id": "9317b114-7843-4e8c-a950-74c365e5edbe",
   "metadata": {},
   "outputs": [
    {
     "name": "stderr",
     "output_type": "stream",
     "text": [
      "[nltk_data] Downloading package punkt to\n",
      "[nltk_data]     C:\\Users\\HP\\AppData\\Roaming\\nltk_data...\n",
      "[nltk_data]   Package punkt is already up-to-date!\n"
     ]
    },
    {
     "data": {
      "text/plain": [
       "True"
      ]
     },
     "execution_count": 1,
     "metadata": {},
     "output_type": "execute_result"
    }
   ],
   "source": [
    "import nltk\n",
    "nltk.download('punkt')\n"
   ]
  },
  {
   "cell_type": "code",
   "execution_count": 2,
   "id": "f15e1c72-eeed-4c8a-ac82-58403c2f78b8",
   "metadata": {},
   "outputs": [
    {
     "data": {
      "text/plain": [
       "['hello everyone.', 'welcome to jijjis class.', 'i am a data scientist.']"
      ]
     },
     "execution_count": 2,
     "metadata": {},
     "output_type": "execute_result"
    }
   ],
   "source": [
    "from nltk.tokenize import sent_tokenize\n",
    "text=(\"hello everyone. welcome to jijjis class. i am a data scientist.\")\n",
    "sent_tokenize(text)"
   ]
  },
  {
   "cell_type": "code",
   "execution_count": 3,
   "id": "400e4d65-0b93-4c82-b407-8c038826b21c",
   "metadata": {},
   "outputs": [
    {
     "data": {
      "text/plain": [
       "['hellow', 'everyone', '.', 'welcome', 'to', 'spectrum', '.']"
      ]
     },
     "execution_count": 3,
     "metadata": {},
     "output_type": "execute_result"
    }
   ],
   "source": [
    "from nltk.tokenize import word_tokenize\n",
    "text=\"hellow everyone. welcome to spectrum.\"\n",
    "word_tokenize(text)"
   ]
  },
  {
   "cell_type": "code",
   "execution_count": 4,
   "id": "a8d4c2f5-788d-44d3-b103-b2ac7b2e5e5d",
   "metadata": {},
   "outputs": [
    {
     "data": {
      "text/plain": [
       "['hellow everyone.', 'welcome to spectrum.']"
      ]
     },
     "execution_count": 4,
     "metadata": {},
     "output_type": "execute_result"
    }
   ],
   "source": [
    "sent_tokenize(text)"
   ]
  },
  {
   "cell_type": "code",
   "execution_count": 5,
   "id": "293b07ea-c075-4d60-ba84-cbfcb3de9a4b",
   "metadata": {},
   "outputs": [
    {
     "data": {
      "text/plain": [
       "['hello',\n",
       " 'world',\n",
       " '.',\n",
       " 'this',\n",
       " 'is',\n",
       " 'my',\n",
       " 'first',\n",
       " 'nlp',\n",
       " 'program',\n",
       " ',',\n",
       " 'welome']"
      ]
     },
     "execution_count": 5,
     "metadata": {},
     "output_type": "execute_result"
    }
   ],
   "source": [
    "text='hello world . this is my first nlp program,welome'\n",
    "word_tokenize(text)"
   ]
  },
  {
   "cell_type": "code",
   "execution_count": 6,
   "id": "9dde7b02-e41d-4a72-948e-033a45afe3aa",
   "metadata": {},
   "outputs": [],
   "source": [
    "from nltk.tokenize import (word_tokenize,sent_tokenize,TreebankWordTokenizer,wordpunct_tokenize,TweetTokenizer,MWETokenizer)"
   ]
  },
  {
   "cell_type": "code",
   "execution_count": 7,
   "id": "5675f032-c111-49da-a307-713aa7a46482",
   "metadata": {
    "scrolled": true
   },
   "outputs": [
    {
     "data": {
      "text/plain": [
       "['hello',\n",
       " 'world',\n",
       " '.',\n",
       " 'this',\n",
       " 'is',\n",
       " 'my',\n",
       " 'first',\n",
       " 'nlp',\n",
       " 'program',\n",
       " ',',\n",
       " 'welome']"
      ]
     },
     "execution_count": 7,
     "metadata": {},
     "output_type": "execute_result"
    }
   ],
   "source": [
    "token=TreebankWordTokenizer()\n",
    "token.tokenize(text)"
   ]
  },
  {
   "cell_type": "code",
   "execution_count": 8,
   "id": "f2b3797c-c002-4344-84b6-13546674a71f",
   "metadata": {},
   "outputs": [
    {
     "data": {
      "text/plain": [
       "<nltk.tokenize.casual.TweetTokenizer at 0x1ea59d4ca10>"
      ]
     },
     "execution_count": 8,
     "metadata": {},
     "output_type": "execute_result"
    }
   ],
   "source": [
    "TweetTokenizer(text)"
   ]
  },
  {
   "cell_type": "code",
   "execution_count": 9,
   "id": "6ce9e7b0-71db-4447-bbee-38c70fac31ca",
   "metadata": {},
   "outputs": [],
   "source": [
    "word=[('hello','world')]\n",
    "token=MWETokenizer(word)\n",
    "text='hello world . this is my first nlp program , welome'\n",
    "tokens=token.tokenize(text.split())"
   ]
  },
  {
   "cell_type": "code",
   "execution_count": 10,
   "id": "323a5ad9-f12d-4468-899c-707e6a778007",
   "metadata": {},
   "outputs": [
    {
     "data": {
      "text/plain": [
       "['hello_world',\n",
       " '.',\n",
       " 'this',\n",
       " 'is',\n",
       " 'my',\n",
       " 'first',\n",
       " 'nlp',\n",
       " 'program',\n",
       " ',',\n",
       " 'welome']"
      ]
     },
     "execution_count": 10,
     "metadata": {},
     "output_type": "execute_result"
    }
   ],
   "source": [
    "tokens"
   ]
  },
  {
   "cell_type": "code",
   "execution_count": 11,
   "id": "57d71b7c-623e-49e1-a5c3-217f4a1653b0",
   "metadata": {},
   "outputs": [
    {
     "name": "stdout",
     "output_type": "stream",
     "text": [
      "Collecting spacy\n",
      "  Using cached spacy-3.8.2-cp312-cp312-win_amd64.whl.metadata (27 kB)\n",
      "Collecting spacy-legacy<3.1.0,>=3.0.11 (from spacy)\n",
      "  Using cached spacy_legacy-3.0.12-py2.py3-none-any.whl.metadata (2.8 kB)\n",
      "Collecting spacy-loggers<2.0.0,>=1.0.0 (from spacy)\n",
      "  Using cached spacy_loggers-1.0.5-py3-none-any.whl.metadata (23 kB)\n",
      "Collecting murmurhash<1.1.0,>=0.28.0 (from spacy)\n",
      "  Using cached murmurhash-1.0.10-cp312-cp312-win_amd64.whl.metadata (2.0 kB)\n",
      "Collecting cymem<2.1.0,>=2.0.2 (from spacy)\n",
      "  Using cached cymem-2.0.8-cp312-cp312-win_amd64.whl.metadata (8.6 kB)\n",
      "Collecting preshed<3.1.0,>=3.0.2 (from spacy)\n",
      "  Using cached preshed-3.0.9-cp312-cp312-win_amd64.whl.metadata (2.2 kB)\n",
      "Collecting thinc<8.4.0,>=8.3.0 (from spacy)\n",
      "  Using cached thinc-8.3.2-cp312-cp312-win_amd64.whl.metadata (15 kB)\n",
      "Collecting wasabi<1.2.0,>=0.9.1 (from spacy)\n",
      "  Using cached wasabi-1.1.3-py3-none-any.whl.metadata (28 kB)\n",
      "Collecting srsly<3.0.0,>=2.4.3 (from spacy)\n",
      "  Using cached srsly-2.4.8-cp312-cp312-win_amd64.whl.metadata (20 kB)\n",
      "Collecting catalogue<2.1.0,>=2.0.6 (from spacy)\n",
      "  Using cached catalogue-2.0.10-py3-none-any.whl.metadata (14 kB)\n",
      "Collecting weasel<0.5.0,>=0.1.0 (from spacy)\n",
      "  Using cached weasel-0.4.1-py3-none-any.whl.metadata (4.6 kB)\n",
      "Collecting typer<1.0.0,>=0.3.0 (from spacy)\n",
      "  Using cached typer-0.12.5-py3-none-any.whl.metadata (15 kB)\n",
      "Requirement already satisfied: tqdm<5.0.0,>=4.38.0 in c:\\users\\hp\\anaconda3\\lib\\site-packages (from spacy) (4.66.4)\n",
      "Requirement already satisfied: requests<3.0.0,>=2.13.0 in c:\\users\\hp\\anaconda3\\lib\\site-packages (from spacy) (2.32.2)\n",
      "Requirement already satisfied: pydantic!=1.8,!=1.8.1,<3.0.0,>=1.7.4 in c:\\users\\hp\\anaconda3\\lib\\site-packages (from spacy) (2.5.3)\n",
      "Requirement already satisfied: jinja2 in c:\\users\\hp\\anaconda3\\lib\\site-packages (from spacy) (3.1.4)\n",
      "Requirement already satisfied: setuptools in c:\\users\\hp\\anaconda3\\lib\\site-packages (from spacy) (69.5.1)\n",
      "Requirement already satisfied: packaging>=20.0 in c:\\users\\hp\\anaconda3\\lib\\site-packages (from spacy) (23.2)\n",
      "Collecting langcodes<4.0.0,>=3.2.0 (from spacy)\n",
      "  Using cached langcodes-3.4.1-py3-none-any.whl.metadata (29 kB)\n",
      "Requirement already satisfied: numpy>=1.19.0 in c:\\users\\hp\\anaconda3\\lib\\site-packages (from spacy) (1.26.4)\n",
      "Collecting language-data>=1.2 (from langcodes<4.0.0,>=3.2.0->spacy)\n",
      "  Using cached language_data-1.2.0-py3-none-any.whl.metadata (4.3 kB)\n",
      "Requirement already satisfied: annotated-types>=0.4.0 in c:\\users\\hp\\anaconda3\\lib\\site-packages (from pydantic!=1.8,!=1.8.1,<3.0.0,>=1.7.4->spacy) (0.6.0)\n",
      "Requirement already satisfied: pydantic-core==2.14.6 in c:\\users\\hp\\anaconda3\\lib\\site-packages (from pydantic!=1.8,!=1.8.1,<3.0.0,>=1.7.4->spacy) (2.14.6)\n",
      "Requirement already satisfied: typing-extensions>=4.6.1 in c:\\users\\hp\\anaconda3\\lib\\site-packages (from pydantic!=1.8,!=1.8.1,<3.0.0,>=1.7.4->spacy) (4.11.0)\n",
      "Requirement already satisfied: charset-normalizer<4,>=2 in c:\\users\\hp\\anaconda3\\lib\\site-packages (from requests<3.0.0,>=2.13.0->spacy) (2.0.4)\n",
      "Requirement already satisfied: idna<4,>=2.5 in c:\\users\\hp\\anaconda3\\lib\\site-packages (from requests<3.0.0,>=2.13.0->spacy) (3.7)\n",
      "Requirement already satisfied: urllib3<3,>=1.21.1 in c:\\users\\hp\\anaconda3\\lib\\site-packages (from requests<3.0.0,>=2.13.0->spacy) (2.2.2)\n",
      "Requirement already satisfied: certifi>=2017.4.17 in c:\\users\\hp\\anaconda3\\lib\\site-packages (from requests<3.0.0,>=2.13.0->spacy) (2024.8.30)\n",
      "Collecting blis<1.1.0,>=1.0.0 (from thinc<8.4.0,>=8.3.0->spacy)\n",
      "  Using cached blis-1.0.1-cp312-cp312-win_amd64.whl.metadata (7.8 kB)\n",
      "Collecting confection<1.0.0,>=0.0.1 (from thinc<8.4.0,>=8.3.0->spacy)\n",
      "  Using cached confection-0.1.5-py3-none-any.whl.metadata (19 kB)\n",
      "Collecting numpy>=1.19.0 (from spacy)\n",
      "  Using cached numpy-2.0.2-cp312-cp312-win_amd64.whl.metadata (59 kB)\n",
      "Requirement already satisfied: colorama in c:\\users\\hp\\anaconda3\\lib\\site-packages (from tqdm<5.0.0,>=4.38.0->spacy) (0.4.6)\n",
      "Requirement already satisfied: click>=8.0.0 in c:\\users\\hp\\anaconda3\\lib\\site-packages (from typer<1.0.0,>=0.3.0->spacy) (8.1.7)\n",
      "Collecting shellingham>=1.3.0 (from typer<1.0.0,>=0.3.0->spacy)\n",
      "  Using cached shellingham-1.5.4-py2.py3-none-any.whl.metadata (3.5 kB)\n",
      "Requirement already satisfied: rich>=10.11.0 in c:\\users\\hp\\anaconda3\\lib\\site-packages (from typer<1.0.0,>=0.3.0->spacy) (13.3.5)\n",
      "Collecting cloudpathlib<1.0.0,>=0.7.0 (from weasel<0.5.0,>=0.1.0->spacy)\n",
      "  Using cached cloudpathlib-0.20.0-py3-none-any.whl.metadata (14 kB)\n",
      "Requirement already satisfied: smart-open<8.0.0,>=5.2.1 in c:\\users\\hp\\anaconda3\\lib\\site-packages (from weasel<0.5.0,>=0.1.0->spacy) (5.2.1)\n",
      "Requirement already satisfied: MarkupSafe>=2.0 in c:\\users\\hp\\anaconda3\\lib\\site-packages (from jinja2->spacy) (2.1.3)\n",
      "Collecting marisa-trie>=0.7.7 (from language-data>=1.2->langcodes<4.0.0,>=3.2.0->spacy)\n",
      "  Using cached marisa_trie-1.2.1-cp312-cp312-win_amd64.whl.metadata (9.3 kB)\n",
      "Requirement already satisfied: markdown-it-py<3.0.0,>=2.2.0 in c:\\users\\hp\\anaconda3\\lib\\site-packages (from rich>=10.11.0->typer<1.0.0,>=0.3.0->spacy) (2.2.0)\n",
      "Requirement already satisfied: pygments<3.0.0,>=2.13.0 in c:\\users\\hp\\anaconda3\\lib\\site-packages (from rich>=10.11.0->typer<1.0.0,>=0.3.0->spacy) (2.15.1)\n",
      "Requirement already satisfied: mdurl~=0.1 in c:\\users\\hp\\anaconda3\\lib\\site-packages (from markdown-it-py<3.0.0,>=2.2.0->rich>=10.11.0->typer<1.0.0,>=0.3.0->spacy) (0.1.0)\n",
      "Using cached spacy-3.8.2-cp312-cp312-win_amd64.whl (11.8 MB)\n",
      "Using cached catalogue-2.0.10-py3-none-any.whl (17 kB)\n",
      "Using cached cymem-2.0.8-cp312-cp312-win_amd64.whl (39 kB)\n",
      "Using cached langcodes-3.4.1-py3-none-any.whl (182 kB)\n",
      "Using cached murmurhash-1.0.10-cp312-cp312-win_amd64.whl (25 kB)\n",
      "Using cached preshed-3.0.9-cp312-cp312-win_amd64.whl (122 kB)\n",
      "Using cached spacy_legacy-3.0.12-py2.py3-none-any.whl (29 kB)\n",
      "Using cached spacy_loggers-1.0.5-py3-none-any.whl (22 kB)\n",
      "Using cached srsly-2.4.8-cp312-cp312-win_amd64.whl (478 kB)\n",
      "Using cached thinc-8.3.2-cp312-cp312-win_amd64.whl (1.5 MB)\n",
      "Downloading numpy-2.0.2-cp312-cp312-win_amd64.whl (15.6 MB)\n",
      "   ---------------------------------------- 0.0/15.6 MB ? eta -:--:--\n",
      "   ---------------------------------------- 0.0/15.6 MB ? eta -:--:--\n",
      "   ---------------------------------------- 0.0/15.6 MB 330.3 kB/s eta 0:00:48\n",
      "   ---------------------------------------- 0.1/15.6 MB 656.4 kB/s eta 0:00:24\n",
      "   ---------------------------------------- 0.1/15.6 MB 656.4 kB/s eta 0:00:24\n",
      "   ---------------------------------------- 0.1/15.6 MB 655.8 kB/s eta 0:00:24\n",
      "    --------------------------------------- 0.2/15.6 MB 860.2 kB/s eta 0:00:18\n",
      "    --------------------------------------- 0.3/15.6 MB 874.6 kB/s eta 0:00:18\n",
      "    --------------------------------------- 0.3/15.6 MB 874.6 kB/s eta 0:00:18\n",
      "    --------------------------------------- 0.4/15.6 MB 955.7 kB/s eta 0:00:16\n",
      "    --------------------------------------- 0.4/15.6 MB 955.7 kB/s eta 0:00:16\n",
      "   - -------------------------------------- 0.4/15.6 MB 888.6 kB/s eta 0:00:18\n",
      "   - -------------------------------------- 0.5/15.6 MB 934.5 kB/s eta 0:00:17\n",
      "   - -------------------------------------- 0.5/15.6 MB 885.8 kB/s eta 0:00:18\n",
      "   - -------------------------------------- 0.6/15.6 MB 966.7 kB/s eta 0:00:16\n",
      "   - -------------------------------------- 0.6/15.6 MB 966.7 kB/s eta 0:00:16\n",
      "   - -------------------------------------- 0.7/15.6 MB 984.1 kB/s eta 0:00:16\n",
      "   - -------------------------------------- 0.7/15.6 MB 984.1 kB/s eta 0:00:16\n",
      "   - -------------------------------------- 0.7/15.6 MB 944.0 kB/s eta 0:00:16\n",
      "   - -------------------------------------- 0.7/15.6 MB 944.0 kB/s eta 0:00:16\n",
      "   -- ------------------------------------- 0.9/15.6 MB 1.0 MB/s eta 0:00:15\n",
      "   -- ------------------------------------- 0.9/15.6 MB 1.0 MB/s eta 0:00:15\n",
      "   -- ------------------------------------- 0.9/15.6 MB 1.0 MB/s eta 0:00:15\n",
      "   -- ------------------------------------- 0.9/15.6 MB 1.0 MB/s eta 0:00:15\n",
      "   -- ------------------------------------- 1.0/15.6 MB 946.2 kB/s eta 0:00:16\n",
      "   -- ------------------------------------- 1.0/15.6 MB 946.2 kB/s eta 0:00:16\n",
      "   -- ------------------------------------- 1.0/15.6 MB 946.2 kB/s eta 0:00:16\n",
      "   -- ------------------------------------- 1.0/15.6 MB 946.2 kB/s eta 0:00:16\n",
      "   -- ------------------------------------- 1.0/15.6 MB 946.2 kB/s eta 0:00:16\n",
      "   --- ------------------------------------ 1.2/15.6 MB 907.9 kB/s eta 0:00:16\n",
      "   --- ------------------------------------ 1.2/15.6 MB 907.9 kB/s eta 0:00:16\n",
      "   --- ------------------------------------ 1.2/15.6 MB 864.1 kB/s eta 0:00:17\n",
      "   --- ------------------------------------ 1.3/15.6 MB 871.9 kB/s eta 0:00:17\n",
      "   --- ------------------------------------ 1.4/15.6 MB 912.5 kB/s eta 0:00:16\n",
      "   --- ------------------------------------ 1.5/15.6 MB 937.5 kB/s eta 0:00:16\n",
      "   ---- ----------------------------------- 1.6/15.6 MB 967.4 kB/s eta 0:00:15\n",
      "   ---- ----------------------------------- 1.6/15.6 MB 989.4 kB/s eta 0:00:15\n",
      "   ---- ----------------------------------- 1.8/15.6 MB 1.0 MB/s eta 0:00:14\n",
      "   ---- ----------------------------------- 1.8/15.6 MB 1.0 MB/s eta 0:00:14\n",
      "   ----- ---------------------------------- 2.0/15.6 MB 1.1 MB/s eta 0:00:13\n",
      "   ----- ---------------------------------- 2.0/15.6 MB 1.1 MB/s eta 0:00:13\n",
      "   ----- ---------------------------------- 2.1/15.6 MB 1.1 MB/s eta 0:00:12\n",
      "   ----- ---------------------------------- 2.2/15.6 MB 1.2 MB/s eta 0:00:12\n",
      "   ----- ---------------------------------- 2.3/15.6 MB 1.2 MB/s eta 0:00:12\n",
      "   ------ --------------------------------- 2.5/15.6 MB 1.2 MB/s eta 0:00:11\n",
      "   ------ --------------------------------- 2.5/15.6 MB 1.2 MB/s eta 0:00:11\n",
      "   ------ --------------------------------- 2.6/15.6 MB 1.2 MB/s eta 0:00:11\n",
      "   ------ --------------------------------- 2.7/15.6 MB 1.3 MB/s eta 0:00:11\n",
      "   ------- -------------------------------- 2.8/15.6 MB 1.2 MB/s eta 0:00:11\n",
      "   ------- -------------------------------- 2.9/15.6 MB 1.3 MB/s eta 0:00:10\n",
      "   ------- -------------------------------- 2.9/15.6 MB 1.3 MB/s eta 0:00:10\n",
      "   ------- -------------------------------- 3.0/15.6 MB 1.3 MB/s eta 0:00:10\n",
      "   -------- ------------------------------- 3.2/15.6 MB 1.3 MB/s eta 0:00:10\n",
      "   -------- ------------------------------- 3.3/15.6 MB 1.3 MB/s eta 0:00:10\n",
      "   -------- ------------------------------- 3.4/15.6 MB 1.4 MB/s eta 0:00:10\n",
      "   --------- ------------------------------ 3.6/15.6 MB 1.4 MB/s eta 0:00:09\n",
      "   --------- ------------------------------ 3.6/15.6 MB 1.4 MB/s eta 0:00:09\n",
      "   --------- ------------------------------ 3.9/15.6 MB 1.5 MB/s eta 0:00:08\n",
      "   --------- ------------------------------ 3.9/15.6 MB 1.5 MB/s eta 0:00:08\n",
      "   ---------- ----------------------------- 4.0/15.6 MB 1.5 MB/s eta 0:00:08\n",
      "   ---------- ----------------------------- 4.2/15.6 MB 1.5 MB/s eta 0:00:08\n",
      "   ----------- ---------------------------- 4.4/15.6 MB 1.5 MB/s eta 0:00:08\n",
      "   ----------- ---------------------------- 4.5/15.6 MB 1.6 MB/s eta 0:00:08\n",
      "   ----------- ---------------------------- 4.7/15.6 MB 1.6 MB/s eta 0:00:07\n",
      "   ------------ --------------------------- 4.8/15.6 MB 1.6 MB/s eta 0:00:07\n",
      "   ------------ --------------------------- 4.9/15.6 MB 1.6 MB/s eta 0:00:07\n",
      "   ------------- -------------------------- 5.2/15.6 MB 1.7 MB/s eta 0:00:07\n",
      "   ------------- -------------------------- 5.3/15.6 MB 1.7 MB/s eta 0:00:07\n",
      "   -------------- ------------------------- 5.6/15.6 MB 1.8 MB/s eta 0:00:06\n",
      "   -------------- ------------------------- 5.6/15.6 MB 1.8 MB/s eta 0:00:06\n",
      "   -------------- ------------------------- 5.7/15.6 MB 1.8 MB/s eta 0:00:06\n",
      "   --------------- ------------------------ 5.9/15.6 MB 1.8 MB/s eta 0:00:06\n",
      "   --------------- ------------------------ 6.1/15.6 MB 1.8 MB/s eta 0:00:06\n",
      "   ---------------- ----------------------- 6.3/15.6 MB 1.9 MB/s eta 0:00:05\n",
      "   ---------------- ----------------------- 6.5/15.6 MB 1.9 MB/s eta 0:00:05\n",
      "   ----------------- ---------------------- 6.7/15.6 MB 1.9 MB/s eta 0:00:05\n",
      "   ----------------- ---------------------- 6.9/15.6 MB 2.0 MB/s eta 0:00:05\n",
      "   ----------------- ---------------------- 7.0/15.6 MB 2.0 MB/s eta 0:00:05\n",
      "   ------------------ --------------------- 7.4/15.6 MB 2.0 MB/s eta 0:00:05\n",
      "   ------------------- -------------------- 7.5/15.6 MB 2.0 MB/s eta 0:00:05\n",
      "   ------------------- -------------------- 7.6/15.6 MB 2.1 MB/s eta 0:00:04\n",
      "   -------------------- ------------------- 7.8/15.6 MB 2.1 MB/s eta 0:00:04\n",
      "   -------------------- ------------------- 8.0/15.6 MB 2.1 MB/s eta 0:00:04\n",
      "   -------------------- ------------------- 8.1/15.6 MB 2.1 MB/s eta 0:00:04\n",
      "   --------------------- ------------------ 8.3/15.6 MB 2.1 MB/s eta 0:00:04\n",
      "   --------------------- ------------------ 8.4/15.6 MB 2.1 MB/s eta 0:00:04\n",
      "   ---------------------- ----------------- 8.7/15.6 MB 2.2 MB/s eta 0:00:04\n",
      "   ----------------------- ---------------- 9.0/15.6 MB 2.2 MB/s eta 0:00:03\n",
      "   ----------------------- ---------------- 9.2/15.6 MB 2.2 MB/s eta 0:00:03\n",
      "   ------------------------ --------------- 9.5/15.6 MB 2.3 MB/s eta 0:00:03\n",
      "   ------------------------ --------------- 9.6/15.6 MB 2.3 MB/s eta 0:00:03\n",
      "   ------------------------ --------------- 9.6/15.6 MB 2.3 MB/s eta 0:00:03\n",
      "   ------------------------- -------------- 10.0/15.6 MB 2.3 MB/s eta 0:00:03\n",
      "   -------------------------- ------------- 10.2/15.6 MB 2.4 MB/s eta 0:00:03\n",
      "   -------------------------- ------------- 10.3/15.6 MB 2.4 MB/s eta 0:00:03\n",
      "   --------------------------- ------------ 10.6/15.6 MB 2.6 MB/s eta 0:00:02\n",
      "   --------------------------- ------------ 10.9/15.6 MB 2.7 MB/s eta 0:00:02\n",
      "   ---------------------------- ----------- 11.2/15.6 MB 3.0 MB/s eta 0:00:02\n",
      "   ----------------------------- ---------- 11.6/15.6 MB 3.4 MB/s eta 0:00:02\n",
      "   ------------------------------ --------- 11.9/15.6 MB 3.4 MB/s eta 0:00:02\n",
      "   ------------------------------ --------- 12.1/15.6 MB 3.5 MB/s eta 0:00:01\n",
      "   ------------------------------- -------- 12.4/15.6 MB 3.6 MB/s eta 0:00:01\n",
      "   -------------------------------- ------- 12.8/15.6 MB 3.9 MB/s eta 0:00:01\n",
      "   --------------------------------- ------ 12.9/15.6 MB 3.9 MB/s eta 0:00:01\n",
      "   ---------------------------------- ----- 13.3/15.6 MB 4.1 MB/s eta 0:00:01\n",
      "   ---------------------------------- ----- 13.6/15.6 MB 4.3 MB/s eta 0:00:01\n",
      "   ----------------------------------- ---- 13.8/15.6 MB 4.3 MB/s eta 0:00:01\n",
      "   ------------------------------------ --- 14.2/15.6 MB 4.5 MB/s eta 0:00:01\n",
      "   ------------------------------------- -- 14.6/15.6 MB 4.6 MB/s eta 0:00:01\n",
      "   -------------------------------------- - 15.0/15.6 MB 4.8 MB/s eta 0:00:01\n",
      "   ---------------------------------------  15.2/15.6 MB 4.9 MB/s eta 0:00:01\n",
      "   ---------------------------------------  15.6/15.6 MB 5.0 MB/s eta 0:00:01\n",
      "   ---------------------------------------- 15.6/15.6 MB 4.9 MB/s eta 0:00:00\n",
      "Using cached typer-0.12.5-py3-none-any.whl (47 kB)\n",
      "Using cached wasabi-1.1.3-py3-none-any.whl (27 kB)\n",
      "Using cached weasel-0.4.1-py3-none-any.whl (50 kB)\n",
      "Using cached blis-1.0.1-cp312-cp312-win_amd64.whl (6.4 MB)\n",
      "Using cached cloudpathlib-0.20.0-py3-none-any.whl (52 kB)\n",
      "Using cached confection-0.1.5-py3-none-any.whl (35 kB)\n",
      "Using cached language_data-1.2.0-py3-none-any.whl (5.4 MB)\n",
      "Using cached shellingham-1.5.4-py2.py3-none-any.whl (9.8 kB)\n",
      "Using cached marisa_trie-1.2.1-cp312-cp312-win_amd64.whl (150 kB)\n",
      "Installing collected packages: cymem, wasabi, spacy-loggers, spacy-legacy, shellingham, numpy, murmurhash, marisa-trie, cloudpathlib, catalogue, srsly, preshed, language-data, blis, typer, langcodes, confection, weasel, thinc, spacy\n",
      "  Attempting uninstall: numpy\n",
      "    Found existing installation: numpy 1.26.4\n",
      "    Uninstalling numpy-1.26.4:\n",
      "      Successfully uninstalled numpy-1.26.4\n",
      "Successfully installed blis-1.0.1 catalogue-2.0.10 cloudpathlib-0.20.0 confection-0.1.5 cymem-2.0.8 langcodes-3.4.1 language-data-1.2.0 marisa-trie-1.2.1 murmurhash-1.0.10 numpy-2.0.2 preshed-3.0.9 shellingham-1.5.4 spacy-3.8.2 spacy-legacy-3.0.12 spacy-loggers-1.0.5 srsly-2.4.8 thinc-8.3.2 typer-0.12.5 wasabi-1.1.3 weasel-0.4.1\n"
     ]
    },
    {
     "name": "stderr",
     "output_type": "stream",
     "text": [
      "ERROR: pip's dependency resolver does not currently take into account all the packages that are installed. This behaviour is the source of the following dependency conflicts.\n",
      "contourpy 1.2.0 requires numpy<2.0,>=1.20, but you have numpy 2.0.2 which is incompatible.\n",
      "numba 0.59.1 requires numpy<1.27,>=1.22, but you have numpy 2.0.2 which is incompatible.\n",
      "pywavelets 1.5.0 requires numpy<2.0,>=1.22.4, but you have numpy 2.0.2 which is incompatible.\n",
      "streamlit 1.32.0 requires numpy<2,>=1.19.3, but you have numpy 2.0.2 which is incompatible.\n"
     ]
    }
   ],
   "source": [
    "!pip install spacy"
   ]
  },
  {
   "cell_type": "code",
   "execution_count": 30,
   "id": "1ed9d3b8-a729-4028-8fea-458dd18aa9dd",
   "metadata": {},
   "outputs": [
    {
     "name": "stdout",
     "output_type": "stream",
     "text": [
      "Requirement already satisfied: pydantic in c:\\users\\hp\\anaconda3\\lib\\site-packages (2.5.3)\n",
      "Collecting pydantic\n",
      "  Downloading pydantic-2.9.2-py3-none-any.whl.metadata (149 kB)\n",
      "     ---------------------------------------- 0.0/149.4 kB ? eta -:--:--\n",
      "     -- ------------------------------------- 10.2/149.4 kB ? eta -:--:--\n",
      "     -- ------------------------------------- 10.2/149.4 kB ? eta -:--:--\n",
      "     ---------- -------------------------- 41.0/149.4 kB 279.3 kB/s eta 0:00:01\n",
      "     ---------------------- -------------- 92.2/149.4 kB 476.3 kB/s eta 0:00:01\n",
      "     ----------------------------- ------ 122.9/149.4 kB 554.9 kB/s eta 0:00:01\n",
      "     ----------------------------- ------ 122.9/149.4 kB 554.9 kB/s eta 0:00:01\n",
      "     ---------------------------------- - 143.4/149.4 kB 425.3 kB/s eta 0:00:01\n",
      "     ------------------------------------ 149.4/149.4 kB 404.7 kB/s eta 0:00:00\n",
      "Requirement already satisfied: annotated-types>=0.6.0 in c:\\users\\hp\\anaconda3\\lib\\site-packages (from pydantic) (0.6.0)\n",
      "Collecting pydantic-core==2.23.4 (from pydantic)\n",
      "  Downloading pydantic_core-2.23.4-cp312-none-win_amd64.whl.metadata (6.7 kB)\n",
      "Requirement already satisfied: typing-extensions>=4.6.1 in c:\\users\\hp\\anaconda3\\lib\\site-packages (from pydantic) (4.11.0)\n",
      "Downloading pydantic-2.9.2-py3-none-any.whl (434 kB)\n",
      "   ---------------------------------------- 0.0/434.9 kB ? eta -:--:--\n",
      "   ----- ---------------------------------- 61.4/434.9 kB 1.7 MB/s eta 0:00:01\n",
      "   ----------- ---------------------------- 122.9/434.9 kB 1.4 MB/s eta 0:00:01\n",
      "   ----------------- ---------------------- 194.6/434.9 kB 2.0 MB/s eta 0:00:01\n",
      "   ------------------------- -------------- 276.5/434.9 kB 1.5 MB/s eta 0:00:01\n",
      "   ----------------------------- ---------- 317.4/434.9 kB 1.4 MB/s eta 0:00:01\n",
      "   ----------------------------------- ---- 389.1/434.9 kB 1.5 MB/s eta 0:00:01\n",
      "   ---------------------------------------  430.1/434.9 kB 1.5 MB/s eta 0:00:01\n",
      "   ---------------------------------------- 434.9/434.9 kB 1.4 MB/s eta 0:00:00\n",
      "Downloading pydantic_core-2.23.4-cp312-none-win_amd64.whl (1.9 MB)\n",
      "   ---------------------------------------- 0.0/1.9 MB ? eta -:--:--\n",
      "   - -------------------------------------- 0.1/1.9 MB 2.6 MB/s eta 0:00:01\n",
      "   -- ------------------------------------- 0.1/1.9 MB 2.2 MB/s eta 0:00:01\n",
      "   -- ------------------------------------- 0.1/1.9 MB 2.2 MB/s eta 0:00:01\n",
      "   ---- ----------------------------------- 0.2/1.9 MB 1.3 MB/s eta 0:00:02\n",
      "   ----- ---------------------------------- 0.3/1.9 MB 1.1 MB/s eta 0:00:02\n",
      "   ------ --------------------------------- 0.3/1.9 MB 1.1 MB/s eta 0:00:02\n",
      "   -------- ------------------------------- 0.4/1.9 MB 1.3 MB/s eta 0:00:02\n",
      "   ---------- ----------------------------- 0.5/1.9 MB 1.3 MB/s eta 0:00:02\n",
      "   ----------- ---------------------------- 0.6/1.9 MB 1.4 MB/s eta 0:00:01\n",
      "   ------------- -------------------------- 0.6/1.9 MB 1.4 MB/s eta 0:00:01\n",
      "   --------------- ------------------------ 0.7/1.9 MB 1.5 MB/s eta 0:00:01\n",
      "   ----------------- ---------------------- 0.8/1.9 MB 1.5 MB/s eta 0:00:01\n",
      "   -------------------- ------------------- 1.0/1.9 MB 1.6 MB/s eta 0:00:01\n",
      "   ----------------------- ---------------- 1.1/1.9 MB 1.7 MB/s eta 0:00:01\n",
      "   -------------------------- ------------- 1.3/1.9 MB 1.8 MB/s eta 0:00:01\n",
      "   --------------------------- ------------ 1.3/1.9 MB 1.8 MB/s eta 0:00:01\n",
      "   --------------------------- ------------ 1.3/1.9 MB 1.8 MB/s eta 0:00:01\n",
      "   ---------------------------- ----------- 1.4/1.9 MB 1.7 MB/s eta 0:00:01\n",
      "   -------------------------------- ------- 1.5/1.9 MB 1.8 MB/s eta 0:00:01\n",
      "   --------------------------------- ------ 1.6/1.9 MB 1.8 MB/s eta 0:00:01\n",
      "   ------------------------------------ --- 1.7/1.9 MB 1.8 MB/s eta 0:00:01\n",
      "   ------------------------------------- -- 1.8/1.9 MB 1.8 MB/s eta 0:00:01\n",
      "   ---------------------------------------  1.9/1.9 MB 1.8 MB/s eta 0:00:01\n",
      "   ---------------------------------------- 1.9/1.9 MB 1.7 MB/s eta 0:00:00\n",
      "Installing collected packages: pydantic-core, pydantic\n",
      "  Attempting uninstall: pydantic-core\n",
      "    Found existing installation: pydantic_core 2.14.6\n",
      "    Uninstalling pydantic_core-2.14.6:\n",
      "      Successfully uninstalled pydantic_core-2.14.6\n",
      "  Attempting uninstall: pydantic\n",
      "    Found existing installation: pydantic 2.5.3\n",
      "    Uninstalling pydantic-2.5.3:\n",
      "      Successfully uninstalled pydantic-2.5.3\n",
      "Successfully installed pydantic-2.9.2 pydantic-core-2.23.4\n"
     ]
    }
   ],
   "source": [
    "!pip install --upgrade pydantic"
   ]
  },
  {
   "cell_type": "code",
   "execution_count": 32,
   "id": "77ba8ffc-4894-4534-a923-8d6b8c976761",
   "metadata": {},
   "outputs": [
    {
     "name": "stderr",
     "output_type": "stream",
     "text": [
      "Traceback (most recent call last):\n",
      "  File \"<frozen runpy>\", line 189, in _run_module_as_main\n",
      "  File \"<frozen runpy>\", line 148, in _get_module_details\n",
      "  File \"<frozen runpy>\", line 112, in _get_module_details\n",
      "  File \"C:\\Users\\HP\\anaconda3\\Lib\\site-packages\\spacy\\__init__.py\", line 6, in <module>\n",
      "    from .errors import setup_default_warnings\n",
      "  File \"C:\\Users\\HP\\anaconda3\\Lib\\site-packages\\spacy\\errors.py\", line 3, in <module>\n",
      "    from .compat import Literal\n",
      "  File \"C:\\Users\\HP\\anaconda3\\Lib\\site-packages\\spacy\\compat.py\", line 4, in <module>\n",
      "    from thinc.util import copy_array\n",
      "  File \"C:\\Users\\HP\\anaconda3\\Lib\\site-packages\\thinc\\__init__.py\", line 5, in <module>\n",
      "    from .config import registry\n",
      "  File \"C:\\Users\\HP\\anaconda3\\Lib\\site-packages\\thinc\\config.py\", line 5, in <module>\n",
      "    from .types import Decorator\n",
      "  File \"C:\\Users\\HP\\anaconda3\\Lib\\site-packages\\thinc\\types.py\", line 25, in <module>\n",
      "    from .compat import cupy, has_cupy\n",
      "  File \"C:\\Users\\HP\\anaconda3\\Lib\\site-packages\\thinc\\compat.py\", line 99, in <module>\n",
      "    import h5py\n",
      "  File \"C:\\Users\\HP\\anaconda3\\Lib\\site-packages\\h5py\\__init__.py\", line 45, in <module>\n",
      "    from ._conv import register_converters as _register_converters, \\\n",
      "  File \"h5py\\\\_conv.pyx\", line 1, in init h5py._conv\n",
      "  File \"h5py\\\\h5r.pyx\", line 1, in init h5py.h5r\n",
      "  File \"h5py\\\\h5p.pyx\", line 1, in init h5py.h5p\n",
      "ValueError: numpy.dtype size changed, may indicate binary incompatibility. Expected 96 from C header, got 88 from PyObject\n"
     ]
    }
   ],
   "source": [
    "!python -m spacy download en_core_web_sm"
   ]
  },
  {
   "cell_type": "code",
   "execution_count": null,
   "id": "572073f9-c401-47b9-bd59-b4686d49f2c1",
   "metadata": {},
   "outputs": [],
   "source": []
  }
 ],
 "metadata": {
  "kernelspec": {
   "display_name": "Python 3 (ipykernel)",
   "language": "python",
   "name": "python3"
  },
  "language_info": {
   "codemirror_mode": {
    "name": "ipython",
    "version": 3
   },
   "file_extension": ".py",
   "mimetype": "text/x-python",
   "name": "python",
   "nbconvert_exporter": "python",
   "pygments_lexer": "ipython3",
   "version": "3.12.4"
  }
 },
 "nbformat": 4,
 "nbformat_minor": 5
}
