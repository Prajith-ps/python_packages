{
 "cells": [
  {
   "cell_type": "code",
   "execution_count": 1,
   "id": "65ffabe1-0b6f-4a64-88e5-2edcf6f623db",
   "metadata": {},
   "outputs": [
    {
     "name": "stdout",
     "output_type": "stream",
     "text": [
      "1\n",
      "2\n",
      "3\n"
     ]
    }
   ],
   "source": [
    "import numpy as np\n",
    "arr=np.array([1,2,3])\n",
    "for x in arr:\n",
    "    print(x)"
   ]
  },
  {
   "cell_type": "code",
   "execution_count": 3,
   "id": "1a926ecd-b074-4fb8-98ea-b922fcbaf817",
   "metadata": {},
   "outputs": [
    {
     "name": "stdout",
     "output_type": "stream",
     "text": [
      "[1 2 3]\n",
      "[4 5 6]\n"
     ]
    }
   ],
   "source": [
    "#in 2D array\n",
    "import numpy as np\n",
    "arr=np.array([[1,2,3],[4,5,6]])\n",
    "for x in arr:\n",
    "    print(x)\n",
    "    "
   ]
  },
  {
   "cell_type": "code",
   "execution_count": 11,
   "id": "a2989bfe-cefd-4a2b-a7c0-d202e8844b57",
   "metadata": {},
   "outputs": [
    {
     "name": "stdout",
     "output_type": "stream",
     "text": [
      "1\n",
      "2\n",
      "3\n",
      "4\n",
      "5\n",
      "6\n"
     ]
    }
   ],
   "source": [
    "import numpy as np\n",
    "arr=np.array([[1,2,3],[4,5,6]])\n",
    "for x in arr:\n",
    "    for y in x:\n",
    "        print(y)"
   ]
  },
  {
   "cell_type": "code",
   "execution_count": 15,
   "id": "40094fb5-e667-45e3-bb01-69571fb81590",
   "metadata": {},
   "outputs": [
    {
     "name": "stdout",
     "output_type": "stream",
     "text": [
      "1\n",
      "2\n",
      "3\n",
      "4\n",
      "5\n",
      "6\n",
      "7\n",
      "8\n",
      "9\n",
      "10\n",
      "11\n",
      "12\n"
     ]
    }
   ],
   "source": [
    "import numpy as np\n",
    "arr=np.array([[[1,2,3],[4,5,6]],[[7,8,9],[10,11,12]]])\n",
    "for x in arr:\n",
    "    for y in x:\n",
    "        for z in y:\n",
    "            print(z)"
   ]
  },
  {
   "cell_type": "code",
   "execution_count": 44,
   "id": "1ee2c7c7-0e4a-4a07-9083-549d6e0e9a56",
   "metadata": {},
   "outputs": [
    {
     "name": "stdout",
     "output_type": "stream",
     "text": [
      "[ 2  8 18 32 50 72 98]\n"
     ]
    }
   ],
   "source": [
    "import numpy as np\n",
    "a=np.array([1,2,3,4,5,6,7])\n",
    "b=np.array([2,4,6,8,10,12,14])\n",
    "c=a*b\n",
    "print(c)\n"
   ]
  },
  {
   "cell_type": "code",
   "execution_count": 46,
   "id": "69686f69-d169-4294-ac0d-4230b1a2eb47",
   "metadata": {},
   "outputs": [],
   "source": [
    "# import numpy as np\n",
    "\n",
    "# a = np.array([[1, 2, 3, 4], [5, 6, 7, 8], [10, 20, 30, 40]])\n",
    "# b = np.array([2, 4, 6, 8])  # Adjusted shape\n",
    "\n",
    "# print(\"\\nPrinting array a:\")\n",
    "# print(a)\n",
    "# print(\"\\nPrinting array b:\")\n",
    "# print(b)\n",
    "\n",
    "# print(\"\\nAdding array a and b:\")\n",
    "# c = a + b\n",
    "# print(\"Array c:\", c)\n",
    "\n"
   ]
  },
  {
   "cell_type": "code",
   "execution_count": 50,
   "id": "0fa862bd-c2bb-41a9-9073-4d02d74f6d5a",
   "metadata": {},
   "outputs": [
    {
     "name": "stdout",
     "output_type": "stream",
     "text": [
      "\n",
      " printing array a.\n",
      "[[ 1  2  3  4]\n",
      " [ 5  6  7  8]\n",
      " [10 20 30 40]]\n",
      "\n",
      " printing array b.\n",
      "[2 4 6 8]\n",
      "\n",
      "Adding array a and b:\n",
      "Array c: [[ 3  6  9 12]\n",
      " [ 7 10 13 16]\n",
      " [12 24 36 48]]\n"
     ]
    }
   ],
   "source": [
    "import numpy as np\n",
    "a=np.array([[1,2,3,4],[5,6,7,8],[10,20,30,40]])\n",
    "b=np.array([2,4,6,8])\n",
    "print (\"\\n printing array a.\")\n",
    "print(a)\n",
    "print (\"\\n printing array b.\")\n",
    "print(b)\n",
    "print(\"\\nAdding array a and b:\")\n",
    "c = a + b\n",
    "print(\"Array c:\", c)"
   ]
  },
  {
   "cell_type": "code",
   "execution_count": null,
   "id": "a7c9a1e2-13db-4a9c-bb02-c2758ce05891",
   "metadata": {},
   "outputs": [],
   "source": []
  }
 ],
 "metadata": {
  "kernelspec": {
   "display_name": "Python 3 (ipykernel)",
   "language": "python",
   "name": "python3"
  },
  "language_info": {
   "codemirror_mode": {
    "name": "ipython",
    "version": 3
   },
   "file_extension": ".py",
   "mimetype": "text/x-python",
   "name": "python",
   "nbconvert_exporter": "python",
   "pygments_lexer": "ipython3",
   "version": "3.12.4"
  }
 },
 "nbformat": 4,
 "nbformat_minor": 5
}
